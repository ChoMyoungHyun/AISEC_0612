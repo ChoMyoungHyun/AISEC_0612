{
 "cells": [
  {
   "cell_type": "code",
   "execution_count": 2,
   "id": "6117649d-6a4a-41e4-a373-ba733613241b",
   "metadata": {},
   "outputs": [],
   "source": [
    "import tensorflow as tf # 딥러닝 라이브러리\n",
    "import numpy as np # 다차원 배열 라이브러리\n",
    "import matplotlib.pyplot as plt # 시각화 라이브러리\n",
    "import sklearn # 머신러닝 라이브러리\n",
    "import seaborn as sns # 시각화 고급 라이브러리\n",
    "import pandas as pd # 데이터 분석 라이브러리"
   ]
  },
  {
   "cell_type": "code",
   "execution_count": 4,
   "id": "9ead0f76-14f6-4430-bd10-2b6e2515e220",
   "metadata": {},
   "outputs": [],
   "source": [
    "data = np.array([1,2,3,4,5,6,7,8,9,10,11,12,13,14,15,16,17,18,19,20])"
   ]
  },
  {
   "cell_type": "code",
   "execution_count": 9,
   "id": "f96efc59-4662-430f-8cfe-85e4af2ca65f",
   "metadata": {},
   "outputs": [],
   "source": [
    "def createData_rnn(data_arr,time_step=4):\n",
    "    x_data = [];\n",
    "    y_data = [];\n",
    "    for i in range(len(data_arr)-time_step):\n",
    "        x_data.append(data_arr[i:time_step+i])\n",
    "        y_data.append(data_arr[time_step+i])\n",
    "    return np.array(x_data), np.array(y_data).reshape(-1,1)"
   ]
  },
  {
   "cell_type": "code",
   "execution_count": 11,
   "id": "6a6bd59d-800f-4282-8ef7-2b11417ef6d8",
   "metadata": {},
   "outputs": [
    {
     "name": "stdout",
     "output_type": "stream",
     "text": [
      "(16, 4)\n",
      "(16, 1)\n",
      "[[1 2 3 4]\n",
      " [2 3 4 5]]\n",
      "[[5]\n",
      " [6]]\n",
      "[[15 16 17 18]\n",
      " [16 17 18 19]]\n",
      "[[19]\n",
      " [20]]\n"
     ]
    }
   ],
   "source": [
    "x_data, y_data = createData_rnn(data)\n",
    "print(x_data.shape)\n",
    "print(y_data.shape)\n",
    "print(x_data[:2])\n",
    "print(y_data[:2])\n",
    "print(x_data[-2:])\n",
    "print(y_data[-2:])"
   ]
  },
  {
   "cell_type": "code",
   "execution_count": 15,
   "id": "64e0e537-6150-43b9-b588-dd3ff85906bd",
   "metadata": {},
   "outputs": [
    {
     "name": "stdout",
     "output_type": "stream",
     "text": [
      "tf.Tensor(\n",
      "[[1. 2. 3. 4.]\n",
      " [2. 3. 4. 5.]], shape=(2, 4), dtype=float32)\n"
     ]
    }
   ],
   "source": [
    "Time_Step = 4\n",
    "from tensorflow.keras import Sequential, Input\n",
    "from tensorflow.keras.layers import SimpleRNN\n",
    "\n",
    "model = Sequential()\n",
    "model.add(Input((Time_Step,)))\n",
    "print(model(x_data)[:2])"
   ]
  },
  {
   "cell_type": "code",
   "execution_count": null,
   "id": "a145931b-7c9f-4d46-a2b3-1689cdaee943",
   "metadata": {},
   "outputs": [],
   "source": []
  }
 ],
 "metadata": {
  "kernelspec": {
   "display_name": "Python 3 (ipykernel)",
   "language": "python",
   "name": "python3"
  },
  "language_info": {
   "codemirror_mode": {
    "name": "ipython",
    "version": 3
   },
   "file_extension": ".py",
   "mimetype": "text/x-python",
   "name": "python",
   "nbconvert_exporter": "python",
   "pygments_lexer": "ipython3",
   "version": "3.9.7"
  }
 },
 "nbformat": 4,
 "nbformat_minor": 5
}
